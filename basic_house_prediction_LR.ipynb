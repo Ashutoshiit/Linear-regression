{
  "nbformat": 4,
  "nbformat_minor": 0,
  "metadata": {
    "colab": {
      "provenance": []
    },
    "kernelspec": {
      "name": "python3",
      "display_name": "Python 3"
    },
    "language_info": {
      "name": "python"
    }
  },
  "cells": [
    {
      "cell_type": "code",
      "execution_count": 1,
      "metadata": {
        "id": "Ho1qHjk6xKdR"
      },
      "outputs": [],
      "source": [
        "import numpy as np\n",
        "import pandas as pd\n",
        "import matplotlib.pyplot as plt"
      ]
    },
    {
      "cell_type": "code",
      "source": [
        "from google.colab import files\n",
        "\n",
        "uploaded = files.upload()\n",
        "\n"
      ],
      "metadata": {
        "colab": {
          "base_uri": "https://localhost:8080/",
          "height": 115
        },
        "id": "hBQ6SIE3xVO4",
        "outputId": "afaecb7d-ba2b-4969-cacf-a879faae6ddc"
      },
      "execution_count": 3,
      "outputs": [
        {
          "output_type": "display_data",
          "data": {
            "text/plain": [
              "<IPython.core.display.HTML object>"
            ],
            "text/html": [
              "\n",
              "     <input type=\"file\" id=\"files-47ad5a7f-0314-420a-a595-494ff1554fa6\" name=\"files[]\" multiple disabled\n",
              "        style=\"border:none\" />\n",
              "     <output id=\"result-47ad5a7f-0314-420a-a595-494ff1554fa6\">\n",
              "      Upload widget is only available when the cell has been executed in the\n",
              "      current browser session. Please rerun this cell to enable.\n",
              "      </output>\n",
              "      <script>// Copyright 2017 Google LLC\n",
              "//\n",
              "// Licensed under the Apache License, Version 2.0 (the \"License\");\n",
              "// you may not use this file except in compliance with the License.\n",
              "// You may obtain a copy of the License at\n",
              "//\n",
              "//      http://www.apache.org/licenses/LICENSE-2.0\n",
              "//\n",
              "// Unless required by applicable law or agreed to in writing, software\n",
              "// distributed under the License is distributed on an \"AS IS\" BASIS,\n",
              "// WITHOUT WARRANTIES OR CONDITIONS OF ANY KIND, either express or implied.\n",
              "// See the License for the specific language governing permissions and\n",
              "// limitations under the License.\n",
              "\n",
              "/**\n",
              " * @fileoverview Helpers for google.colab Python module.\n",
              " */\n",
              "(function(scope) {\n",
              "function span(text, styleAttributes = {}) {\n",
              "  const element = document.createElement('span');\n",
              "  element.textContent = text;\n",
              "  for (const key of Object.keys(styleAttributes)) {\n",
              "    element.style[key] = styleAttributes[key];\n",
              "  }\n",
              "  return element;\n",
              "}\n",
              "\n",
              "// Max number of bytes which will be uploaded at a time.\n",
              "const MAX_PAYLOAD_SIZE = 100 * 1024;\n",
              "\n",
              "function _uploadFiles(inputId, outputId) {\n",
              "  const steps = uploadFilesStep(inputId, outputId);\n",
              "  const outputElement = document.getElementById(outputId);\n",
              "  // Cache steps on the outputElement to make it available for the next call\n",
              "  // to uploadFilesContinue from Python.\n",
              "  outputElement.steps = steps;\n",
              "\n",
              "  return _uploadFilesContinue(outputId);\n",
              "}\n",
              "\n",
              "// This is roughly an async generator (not supported in the browser yet),\n",
              "// where there are multiple asynchronous steps and the Python side is going\n",
              "// to poll for completion of each step.\n",
              "// This uses a Promise to block the python side on completion of each step,\n",
              "// then passes the result of the previous step as the input to the next step.\n",
              "function _uploadFilesContinue(outputId) {\n",
              "  const outputElement = document.getElementById(outputId);\n",
              "  const steps = outputElement.steps;\n",
              "\n",
              "  const next = steps.next(outputElement.lastPromiseValue);\n",
              "  return Promise.resolve(next.value.promise).then((value) => {\n",
              "    // Cache the last promise value to make it available to the next\n",
              "    // step of the generator.\n",
              "    outputElement.lastPromiseValue = value;\n",
              "    return next.value.response;\n",
              "  });\n",
              "}\n",
              "\n",
              "/**\n",
              " * Generator function which is called between each async step of the upload\n",
              " * process.\n",
              " * @param {string} inputId Element ID of the input file picker element.\n",
              " * @param {string} outputId Element ID of the output display.\n",
              " * @return {!Iterable<!Object>} Iterable of next steps.\n",
              " */\n",
              "function* uploadFilesStep(inputId, outputId) {\n",
              "  const inputElement = document.getElementById(inputId);\n",
              "  inputElement.disabled = false;\n",
              "\n",
              "  const outputElement = document.getElementById(outputId);\n",
              "  outputElement.innerHTML = '';\n",
              "\n",
              "  const pickedPromise = new Promise((resolve) => {\n",
              "    inputElement.addEventListener('change', (e) => {\n",
              "      resolve(e.target.files);\n",
              "    });\n",
              "  });\n",
              "\n",
              "  const cancel = document.createElement('button');\n",
              "  inputElement.parentElement.appendChild(cancel);\n",
              "  cancel.textContent = 'Cancel upload';\n",
              "  const cancelPromise = new Promise((resolve) => {\n",
              "    cancel.onclick = () => {\n",
              "      resolve(null);\n",
              "    };\n",
              "  });\n",
              "\n",
              "  // Wait for the user to pick the files.\n",
              "  const files = yield {\n",
              "    promise: Promise.race([pickedPromise, cancelPromise]),\n",
              "    response: {\n",
              "      action: 'starting',\n",
              "    }\n",
              "  };\n",
              "\n",
              "  cancel.remove();\n",
              "\n",
              "  // Disable the input element since further picks are not allowed.\n",
              "  inputElement.disabled = true;\n",
              "\n",
              "  if (!files) {\n",
              "    return {\n",
              "      response: {\n",
              "        action: 'complete',\n",
              "      }\n",
              "    };\n",
              "  }\n",
              "\n",
              "  for (const file of files) {\n",
              "    const li = document.createElement('li');\n",
              "    li.append(span(file.name, {fontWeight: 'bold'}));\n",
              "    li.append(span(\n",
              "        `(${file.type || 'n/a'}) - ${file.size} bytes, ` +\n",
              "        `last modified: ${\n",
              "            file.lastModifiedDate ? file.lastModifiedDate.toLocaleDateString() :\n",
              "                                    'n/a'} - `));\n",
              "    const percent = span('0% done');\n",
              "    li.appendChild(percent);\n",
              "\n",
              "    outputElement.appendChild(li);\n",
              "\n",
              "    const fileDataPromise = new Promise((resolve) => {\n",
              "      const reader = new FileReader();\n",
              "      reader.onload = (e) => {\n",
              "        resolve(e.target.result);\n",
              "      };\n",
              "      reader.readAsArrayBuffer(file);\n",
              "    });\n",
              "    // Wait for the data to be ready.\n",
              "    let fileData = yield {\n",
              "      promise: fileDataPromise,\n",
              "      response: {\n",
              "        action: 'continue',\n",
              "      }\n",
              "    };\n",
              "\n",
              "    // Use a chunked sending to avoid message size limits. See b/62115660.\n",
              "    let position = 0;\n",
              "    do {\n",
              "      const length = Math.min(fileData.byteLength - position, MAX_PAYLOAD_SIZE);\n",
              "      const chunk = new Uint8Array(fileData, position, length);\n",
              "      position += length;\n",
              "\n",
              "      const base64 = btoa(String.fromCharCode.apply(null, chunk));\n",
              "      yield {\n",
              "        response: {\n",
              "          action: 'append',\n",
              "          file: file.name,\n",
              "          data: base64,\n",
              "        },\n",
              "      };\n",
              "\n",
              "      let percentDone = fileData.byteLength === 0 ?\n",
              "          100 :\n",
              "          Math.round((position / fileData.byteLength) * 100);\n",
              "      percent.textContent = `${percentDone}% done`;\n",
              "\n",
              "    } while (position < fileData.byteLength);\n",
              "  }\n",
              "\n",
              "  // All done.\n",
              "  yield {\n",
              "    response: {\n",
              "      action: 'complete',\n",
              "    }\n",
              "  };\n",
              "}\n",
              "\n",
              "scope.google = scope.google || {};\n",
              "scope.google.colab = scope.google.colab || {};\n",
              "scope.google.colab._files = {\n",
              "  _uploadFiles,\n",
              "  _uploadFilesContinue,\n",
              "};\n",
              "})(self);\n",
              "</script> "
            ]
          },
          "metadata": {}
        },
        {
          "output_type": "stream",
          "name": "stdout",
          "text": [
            "Saving data.txt to data (1).txt\n",
            "User uploaded file \"data (1).txt\" with length 540 bytes\n"
          ]
        }
      ]
    },
    {
      "cell_type": "code",
      "source": [],
      "metadata": {
        "colab": {
          "base_uri": "https://localhost:8080/"
        },
        "id": "3926i59Cx9FH",
        "outputId": "d1a94e55-f569-4665-eaee-4009228d3699"
      },
      "execution_count": 5,
      "outputs": [
        {
          "output_type": "stream",
          "name": "stdout",
          "text": [
            "Data loaded using NumPy:\n",
            "[[  1500. 158900.]\n",
            " [  1700. 169850.]\n",
            " [  1750. 178950.]\n",
            " [  1800. 178650.]\n",
            " [  1820. 180000.]\n",
            " [  1920. 186850.]\n",
            " [  1450. 150000.]\n",
            " [  1590. 149870.]\n",
            " [  1596. 158620.]\n",
            " [  1623. 159990.]\n",
            " [  1878. 189680.]\n",
            " [  1658. 168980.]\n",
            " [  1720. 170000.]\n",
            " [  1985. 190000.]\n",
            " [  2000. 198510.]\n",
            " [  2100. 200000.]\n",
            " [  2050. 193580.]\n",
            " [  1990. 200000.]\n",
            " [  1965. 195180.]\n",
            " [  1970. 198680.]\n",
            " [  2120. 201650.]\n",
            " [  2200. 220000.]\n",
            " [  2156. 216510.]\n",
            " [  1269. 138550.]\n",
            " [  1489. 149850.]\n",
            " [  1785. 179850.]\n",
            " [  1965. 196280.]\n",
            " [  1948. 195680.]\n",
            " [  2008. 200000.]\n",
            " [  2079. 205880.]\n",
            " [  2116. 210000.]\n",
            " [  2230. 220000.]\n",
            " [  2200. 219850.]\n",
            " [  2220. 222000.]\n",
            " [  2365. 235680.]\n",
            " [  2325. 239580.]\n",
            " [  2396. 240000.]\n",
            " [  2489. 248850.]\n",
            " [  2420. 245590.]\n",
            " [  2398. 240000.]\n",
            " [  2350. 236840.]\n",
            " [  2375. 230000.]\n",
            " [  2236. 226260.]\n",
            " [  2347. 220590.]\n",
            " [  2459. 239840.]]\n"
          ]
        }
      ]
    },
    {
      "cell_type": "code",
      "source": [
        "X = data[:,0]\n",
        "Y = data[:,1].reshape(Y.size,1)\n",
        "X"
      ],
      "metadata": {
        "colab": {
          "base_uri": "https://localhost:8080/"
        },
        "id": "fKRwKeevyg--",
        "outputId": "a93800d6-e8f4-4951-d0fe-0f2b930ff88b"
      },
      "execution_count": 11,
      "outputs": [
        {
          "output_type": "execute_result",
          "data": {
            "text/plain": [
              "array([1500., 1700., 1750., 1800., 1820., 1920., 1450., 1590., 1596.,\n",
              "       1623., 1878., 1658., 1720., 1985., 2000., 2100., 2050., 1990.,\n",
              "       1965., 1970., 2120., 2200., 2156., 1269., 1489., 1785., 1965.,\n",
              "       1948., 2008., 2079., 2116., 2230., 2200., 2220., 2365., 2325.,\n",
              "       2396., 2489., 2420., 2398., 2350., 2375., 2236., 2347., 2459.])"
            ]
          },
          "metadata": {},
          "execution_count": 11
        }
      ]
    },
    {
      "cell_type": "code",
      "source": [
        "X = np.vstack((np.ones((X.size, )), X)).T\n",
        "X\n"
      ],
      "metadata": {
        "colab": {
          "base_uri": "https://localhost:8080/"
        },
        "id": "HH7mwhFzykkX",
        "outputId": "f622ddbd-20b3-4109-9b64-ab14e82bf622"
      },
      "execution_count": 12,
      "outputs": [
        {
          "output_type": "execute_result",
          "data": {
            "text/plain": [
              "array([[1.000e+00, 1.500e+03],\n",
              "       [1.000e+00, 1.700e+03],\n",
              "       [1.000e+00, 1.750e+03],\n",
              "       [1.000e+00, 1.800e+03],\n",
              "       [1.000e+00, 1.820e+03],\n",
              "       [1.000e+00, 1.920e+03],\n",
              "       [1.000e+00, 1.450e+03],\n",
              "       [1.000e+00, 1.590e+03],\n",
              "       [1.000e+00, 1.596e+03],\n",
              "       [1.000e+00, 1.623e+03],\n",
              "       [1.000e+00, 1.878e+03],\n",
              "       [1.000e+00, 1.658e+03],\n",
              "       [1.000e+00, 1.720e+03],\n",
              "       [1.000e+00, 1.985e+03],\n",
              "       [1.000e+00, 2.000e+03],\n",
              "       [1.000e+00, 2.100e+03],\n",
              "       [1.000e+00, 2.050e+03],\n",
              "       [1.000e+00, 1.990e+03],\n",
              "       [1.000e+00, 1.965e+03],\n",
              "       [1.000e+00, 1.970e+03],\n",
              "       [1.000e+00, 2.120e+03],\n",
              "       [1.000e+00, 2.200e+03],\n",
              "       [1.000e+00, 2.156e+03],\n",
              "       [1.000e+00, 1.269e+03],\n",
              "       [1.000e+00, 1.489e+03],\n",
              "       [1.000e+00, 1.785e+03],\n",
              "       [1.000e+00, 1.965e+03],\n",
              "       [1.000e+00, 1.948e+03],\n",
              "       [1.000e+00, 2.008e+03],\n",
              "       [1.000e+00, 2.079e+03],\n",
              "       [1.000e+00, 2.116e+03],\n",
              "       [1.000e+00, 2.230e+03],\n",
              "       [1.000e+00, 2.200e+03],\n",
              "       [1.000e+00, 2.220e+03],\n",
              "       [1.000e+00, 2.365e+03],\n",
              "       [1.000e+00, 2.325e+03],\n",
              "       [1.000e+00, 2.396e+03],\n",
              "       [1.000e+00, 2.489e+03],\n",
              "       [1.000e+00, 2.420e+03],\n",
              "       [1.000e+00, 2.398e+03],\n",
              "       [1.000e+00, 2.350e+03],\n",
              "       [1.000e+00, 2.375e+03],\n",
              "       [1.000e+00, 2.236e+03],\n",
              "       [1.000e+00, 2.347e+03],\n",
              "       [1.000e+00, 2.459e+03]])"
            ]
          },
          "metadata": {},
          "execution_count": 12
        }
      ]
    },
    {
      "cell_type": "code",
      "source": [
        "print(X.shape)\n",
        "print(Y.shape)"
      ],
      "metadata": {
        "colab": {
          "base_uri": "https://localhost:8080/"
        },
        "id": "Jf0SXiIM1M6-",
        "outputId": "e640db3e-6688-415f-ad05-038401832d8b"
      },
      "execution_count": 13,
      "outputs": [
        {
          "output_type": "stream",
          "name": "stdout",
          "text": [
            "(45, 2)\n",
            "(45, 1)\n"
          ]
        }
      ]
    },
    {
      "cell_type": "code",
      "source": [
        "plt.scatter(X[:, 1], Y)\n",
        "plt.show()"
      ],
      "metadata": {
        "colab": {
          "base_uri": "https://localhost:8080/",
          "height": 450
        },
        "id": "QWGwk7r42Ghx",
        "outputId": "5af3d434-9228-4734-fc5c-35c5e8aaa7da"
      },
      "execution_count": 14,
      "outputs": [
        {
          "output_type": "display_data",
          "data": {
            "text/plain": [
              "<Figure size 640x480 with 1 Axes>"
            ],
            "image/png": "[encoded data removed]"
          },
          "metadata": {}
        }
      ]
    },
    {
      "cell_type": "code",
      "source": [
        "def model(X,Y, learning_rate,iteration):\n",
        "  m = Y.size\n",
        "  theta = np.zeros((2,1))\n",
        "\n",
        "  for i in range(iteration):\n",
        "    y_pred = np.dot(X, theta)\n",
        "\n",
        "    cost = 1/(2*m)*np.sum(np.square(y_pred - Y))\n",
        "\n",
        "    d_theta = (1/m)*np.dot(X.T, y_pred - Y)\n",
        "    theta = theta - learning_rate*d_theta\n",
        "\n",
        "\n",
        "  return theta"
      ],
      "metadata": {
        "id": "pfvxobrK2bHa"
      },
      "execution_count": 15,
      "outputs": []
    },
    {
      "cell_type": "code",
      "source": [
        "iteration = 100\n",
        "learning_rate = 0.00000005\n",
        "\n",
        "theta = model(X, Y, learning_rate = learning_rate, iteration= iteration)"
      ],
      "metadata": {
        "id": "Ld_q1Bec-Wh2"
      },
      "execution_count": 21,
      "outputs": []
    },
    {
      "cell_type": "code",
      "source": [
        "np.dot([1,2000], theta)"
      ],
      "metadata": {
        "colab": {
          "base_uri": "https://localhost:8080/"
        },
        "id": "RcqaaaMi_AIZ",
        "outputId": "da1472fd-f7e5-4676-b7d6-f3262d8530b4"
      },
      "execution_count": 24,
      "outputs": [
        {
          "output_type": "execute_result",
          "data": {
            "text/plain": [
              "array([198783.43974321])"
            ]
          },
          "metadata": {},
          "execution_count": 24
        }
      ]
    },
    {
      "cell_type": "code",
      "source": [
        "np.dot([1,2200], theta)"
      ],
      "metadata": {
        "colab": {
          "base_uri": "https://localhost:8080/"
        },
        "id": "K66-Zthc_cB8",
        "outputId": "dbfab043-4007-4415-ad5a-9834f8b0cc49"
      },
      "execution_count": 26,
      "outputs": [
        {
          "output_type": "execute_result",
          "data": {
            "text/plain": [
              "array([218661.77875731])"
            ]
          },
          "metadata": {},
          "execution_count": 26
        }
      ]
    },
    {
      "cell_type": "code",
      "source": [
        "new_houses = np.array([[1, 3200], [1, 2800], [1, 1896], [1, 3400], [1, 5000]])\n",
        "for house in new_houses:\n",
        "  print(\"Our model predicts the price of house with\", house[1], \"sq. ft. area as :$\", (np.dot(house, theta)))"
      ],
      "metadata": {
        "colab": {
          "base_uri": "https://localhost:8080/"
        },
        "id": "aV9EHlfx_7ae",
        "outputId": "bac9e82e-7119-4085-b752-ae52e77dea73"
      },
      "execution_count": 33,
      "outputs": [
        {
          "output_type": "stream",
          "name": "stdout",
          "text": [
            "Our model predicts the price of house with 3200 sq. ft. area as :$ [318053.47382784]\n",
            "Our model predicts the price of house with 2800 sq. ft. area as :$ [278296.79579963]\n",
            "Our model predicts the price of house with 1896 sq. ft. area as :$ [188446.70345587]\n",
            "Our model predicts the price of house with 3400 sq. ft. area as :$ [337931.81284195]\n",
            "Our model predicts the price of house with 5000 sq. ft. area as :$ [496958.5249548]\n"
          ]
        }
      ]
    },
    {
      "cell_type": "code",
      "source": [],
      "metadata": {
        "id": "ByPHqUVHBgp3"
      },
      "execution_count": null,
      "outputs": []
    }
  ]
}